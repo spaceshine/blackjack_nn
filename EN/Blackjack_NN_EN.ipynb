{
  "nbformat": 4,
  "nbformat_minor": 0,
  "metadata": {
    "colab": {
      "name": "Blackjack NN EN.ipynb",
      "provenance": [],
      "collapsed_sections": []
    },
    "kernelspec": {
      "name": "python3",
      "display_name": "Python 3"
    },
    "language_info": {
      "name": "python"
    }
  },
  "cells": [
    {
      "cell_type": "code",
      "metadata": {
        "id": "7kgj5yRRm_la"
      },
      "source": [
        "import numpy as np\n",
        "import matplotlib.pyplot as plt\n",
        "\n",
        "from tensorflow.keras.models import Sequential\n",
        "from tensorflow.keras.layers import Dense, InputLayer\n",
        "from tensorflow.keras.optimizers import Adam"
      ],
      "execution_count": null,
      "outputs": []
    },
    {
      "cell_type": "markdown",
      "metadata": {
        "id": "EfIvBU6gQ8Xr"
      },
      "source": [
        "# Data preparation"
      ]
    },
    {
      "cell_type": "markdown",
      "metadata": {
        "id": "xJE8Hj_dZqNN"
      },
      "source": [
        "Helper functions"
      ]
    },
    {
      "cell_type": "code",
      "metadata": {
        "id": "TbYF9fSprJH8"
      },
      "source": [
        "def get_cards():\n",
        "  \"\"\"\n",
        "    Set the values ​​of the dealer's and player's cards\n",
        "  \"\"\"\n",
        "  dlr_opn_crd = np.random.randint(2, 11)\n",
        "  dlr_crds = np.random.randint(2, 11) + dlr_opn_crd\n",
        "\n",
        "  return np.random.randint(4, 21), \\\n",
        "         dlr_crds, \\\n",
        "         dlr_opn_crd"
      ],
      "execution_count": null,
      "outputs": []
    },
    {
      "cell_type": "code",
      "metadata": {
        "id": "bGeOCh3rwTPf"
      },
      "source": [
        "def get_data_from_cards(cards):\n",
        "  \"\"\"\n",
        "    Generate data for machine learning from values of cards\n",
        "  \"\"\"\n",
        "  player_cards, dealer_cards, _ = cards\n",
        "\n",
        "  player_cards += np.random.randint(2, 11)  # calculate next player card\n",
        "  # according to it: what action should be taken\n",
        "\n",
        "  while dealer_cards < 17:  # calculate to final dealer card\n",
        "    dealer_cards += np.random.randint(2, 11)\n",
        "  \n",
        "  if dealer_cards > 21:  # dealer bust case: it was not necessary to take card\n",
        "    return cards[0], cards[1], cards[2], -0.5, player_cards, dealer_cards\n",
        "  \n",
        "  if player_cards > 21:  # player bust case: mustn't take a card\n",
        "    return cards[0], cards[1], cards[2], -1, player_cards, dealer_cards\n",
        "  \n",
        "  elif player_cards >= dealer_cards:  # win case: must take a card\n",
        "    return cards[0], cards[1], cards[2], 1, player_cards, dealer_cards\n",
        "  \n",
        "  else:  # not bust case: should take a card\n",
        "    return cards[0], cards[1], cards[2], 0.9, player_cards, dealer_cards"
      ],
      "execution_count": null,
      "outputs": []
    },
    {
      "cell_type": "markdown",
      "metadata": {
        "id": "eWyUuKFeZvHD"
      },
      "source": [
        "Generating data for training a neural network"
      ]
    },
    {
      "cell_type": "code",
      "metadata": {
        "id": "p6-yaYUXyue-"
      },
      "source": [
        "data_size = 30000 # @param training sample size"
      ],
      "execution_count": null,
      "outputs": []
    },
    {
      "cell_type": "code",
      "metadata": {
        "colab": {
          "base_uri": "https://localhost:8080/"
        },
        "id": "4YKfuG3kwG0M",
        "outputId": "faa9bef1-9cb0-4f25-f646-0e94a0f78d80"
      },
      "source": [
        "data_raw = np.array([get_data_from_cards(get_cards()) for _ in range(data_size)])\n",
        "\n",
        "print(data_raw[:10])  # raw data sampling"
      ],
      "execution_count": null,
      "outputs": [
        {
          "output_type": "stream",
          "text": [
            "[[10.  12.   8.   0.9 13.  18. ]\n",
            " [20.   8.   2.  -0.5 29.  23. ]\n",
            " [ 7.   7.   3.   0.9 11.  17. ]\n",
            " [ 8.  16.   9.  -0.5 11.  26. ]\n",
            " [ 4.  15.  10.   0.9  8.  21. ]\n",
            " [11.   5.   2.  -0.5 17.  22. ]\n",
            " [ 7.  11.   5.   0.9  9.  21. ]\n",
            " [ 6.   6.   3.   0.9 11.  19. ]\n",
            " [ 9.   6.   2.   1.  19.  18. ]\n",
            " [15.  12.   8.  -1.  22.  19. ]]\n"
          ],
          "name": "stdout"
        }
      ]
    },
    {
      "cell_type": "code",
      "metadata": {
        "colab": {
          "base_uri": "https://localhost:8080/"
        },
        "id": "7CBHnKXa9pg2",
        "outputId": "21af0aad-6cb0-46b2-cfd1-6658c147f956"
      },
      "source": [
        "X = data_raw[:, (0, 2)]  # input data: player's card sum, dealer's open card\n",
        "Y = data_raw[:, 3]  # output data: action, taken by neural network (-1: stand, +1: hit)\n",
        "\n",
        "print(X[:10], Y[:10], sep='\\n\\n')"
      ],
      "execution_count": null,
      "outputs": [
        {
          "output_type": "stream",
          "text": [
            "[[10.  8.]\n",
            " [20.  2.]\n",
            " [ 7.  3.]\n",
            " [ 8.  9.]\n",
            " [ 4. 10.]\n",
            " [11.  2.]\n",
            " [ 7.  5.]\n",
            " [ 6.  3.]\n",
            " [ 9.  2.]\n",
            " [15.  8.]]\n",
            "\n",
            "[ 0.9 -0.5  0.9 -0.5  0.9 -0.5  0.9  0.9  1.  -1. ]\n"
          ],
          "name": "stdout"
        }
      ]
    },
    {
      "cell_type": "markdown",
      "metadata": {
        "id": "NpIqUG5-TtaX"
      },
      "source": [
        "# Creating a nn model"
      ]
    },
    {
      "cell_type": "code",
      "metadata": {
        "id": "5kJihaHhCSvN"
      },
      "source": [
        "model = Sequential([\n",
        "          InputLayer((2,)),             # input layer : [player's card sum, dealer's open card]\n",
        "          Dense(32, activation='relu'), # middle layer: 32 neurons - relu activation\n",
        "          Dense(1, activation='tanh')   # output layer: from -1 to 1 - nn action\n",
        "])"
      ],
      "execution_count": null,
      "outputs": []
    },
    {
      "cell_type": "code",
      "metadata": {
        "id": "RqN3SeKVDpFt"
      },
      "source": [
        "model.compile(\n",
        "    optimizer=Adam(0.001),\n",
        "    loss='mean_squared_error',\n",
        "    metrics=['accuracy']\n",
        ")"
      ],
      "execution_count": null,
      "outputs": []
    },
    {
      "cell_type": "markdown",
      "metadata": {
        "id": "lGm6OepkZL9M"
      },
      "source": [
        "Training the nn model"
      ]
    },
    {
      "cell_type": "code",
      "metadata": {
        "colab": {
          "base_uri": "https://localhost:8080/"
        },
        "id": "SgqxsV7KEaR2",
        "outputId": "4010ec78-2b94-4122-e54d-c2b93efeac3c"
      },
      "source": [
        "model.fit(X, Y, batch_size=32, epochs=25, verbose=0)"
      ],
      "execution_count": null,
      "outputs": [
        {
          "output_type": "execute_result",
          "data": {
            "text/plain": [
              "<tensorflow.python.keras.callbacks.History at 0x7f9df7ebf310>"
            ]
          },
          "metadata": {
            "tags": []
          },
          "execution_count": 72
        }
      ]
    },
    {
      "cell_type": "markdown",
      "metadata": {
        "id": "AtyzKlXZZTdk"
      },
      "source": [
        "# Using neural network"
      ]
    },
    {
      "cell_type": "markdown",
      "metadata": {
        "id": "50YU6Eb-ZjfA"
      },
      "source": [
        "Simple example"
      ]
    },
    {
      "cell_type": "code",
      "metadata": {
        "colab": {
          "base_uri": "https://localhost:8080/"
        },
        "id": "ssQ3xZY8sGxQ",
        "outputId": "96b19353-3909-40e7-c45c-98e2543f16a1"
      },
      "source": [
        "print(model.predict([[18, 11]]))  # player's card sum: 18, dealer's open card: 11(ace)"
      ],
      "execution_count": null,
      "outputs": [
        {
          "output_type": "stream",
          "text": [
            "[[-0.23529074]]\n"
          ],
          "name": "stdout"
        }
      ]
    },
    {
      "cell_type": "markdown",
      "metadata": {
        "id": "IvREbOVMa7lG"
      },
      "source": [
        "More helper functions"
      ]
    },
    {
      "cell_type": "code",
      "metadata": {
        "id": "UzKBKwns-olh"
      },
      "source": [
        "def boolprint(bll, msg):  # print message if condition is True\n",
        "  if bll:\n",
        "    print(msg)"
      ],
      "execution_count": null,
      "outputs": []
    },
    {
      "cell_type": "code",
      "metadata": {
        "id": "u7gOry-y2trR"
      },
      "source": [
        "def play_blackjack(nn_model, bet=0, balance=1, show=True):\n",
        "  \"\"\"\n",
        "    The neural network plays \n",
        "    1 game of blackjack with an automated dealer\n",
        "  \"\"\"\n",
        "  player, dealer, dealer_open = get_cards()  # distribution of cards\n",
        "\n",
        "  boolprint(bll=show, msg=f'Player: {player}, Dealer open: {dealer_open}') \n",
        "\n",
        "  if player == 21:       # BlackJack case\n",
        "    if dealer_open < 10: \n",
        "      isBlackJack = 1\n",
        "    else:\n",
        "      isBlackJack = 0\n",
        "  else:\n",
        "    isBlackJack = -1\n",
        "\n",
        "  # while nn takes cards, their values ​​are added to the player's sum\n",
        "  while nn_model.predict([[player, dealer_open]]) >= 0 and player < 21:\n",
        "      player += np.random.randint(2, 11)\n",
        "      boolprint(bll=show, msg=f'Player: {player}, Dealer open: {dealer_open}')\n",
        "\n",
        "  boolprint(bll=show, msg='----')  # dealer starts to take cards\n",
        "\n",
        "  boolprint(bll=show, msg=f'Dealer: {dealer}')\n",
        "\n",
        "  # doesn't stop until dealer have 17 - rules\n",
        "  while dealer < 17:\n",
        "      dealer += np.random.randint(2, 11)\n",
        "      boolprint(bll=show, msg=f'Dealer: {dealer}')\n",
        "\n",
        "  boolprint(bll=show, msg='----')  # results\n",
        "\n",
        "  if isBlackJack == 1:  # blackjack 3:2\n",
        "    boolprint(bll=show, msg=f'Player wins - BlackJack 3:2\\nCards: {player, dealer, dealer_open}')\n",
        "    res = (1, player, dealer, dealer_open, balance + 1.5*bet, bet)\n",
        "  \n",
        "  elif isBlackJack == 0:# blackjack 1:1\n",
        "    boolprint(bll=show, msg=f'Player wins - BlackJack 1:1\\nCards: {player, dealer, dealer_open}')\n",
        "    res = (1, player, dealer, dealer_open, balance + 1.0*bet, bet)\n",
        "  \n",
        "  elif dealer > 21:     # dealer busts\n",
        "    boolprint(bll=show, msg=f'Player wins\\nCards: {player, dealer, dealer_open}')\n",
        "    res = (1, player, dealer, dealer_open, balance + 1.0*bet, bet)\n",
        "  \n",
        "  elif player > 21:     # player busts\n",
        "    boolprint(bll=show, msg=f'Dealer wins\\nCards: {player, dealer, dealer_open}')\n",
        "    res = (-1, player, dealer, dealer_open, balance - 1.0*bet, bet)\n",
        "  \n",
        "  elif dealer > player: # dealer's cards > player's cards\n",
        "    boolprint(bll=show, msg=f'Dealer wins\\nCards: {player, dealer, dealer_open}')\n",
        "    res = (-1, player, dealer, dealer_open, balance - 1.0*bet, bet)\n",
        "  \n",
        "  elif dealer == player:# dealer's cards = player's cards\n",
        "    boolprint(bll=show, msg=f'Draw\\nCards: {player, dealer, dealer_open}')\n",
        "    res = (0, player, dealer, dealer_open, balance, bet)\n",
        "  \n",
        "  elif player > dealer: # dealer's cards < player's cards\n",
        "    boolprint(bll=show, msg=f'Player wins\\nCards: {player, dealer, dealer_open}')\n",
        "    res = (1, player, dealer, dealer_open, balance + 1.0*bet, bet)\n",
        "  \n",
        "  boolprint(bll=show, msg='\\n-*---*-\\n')  # end of game\n",
        "\n",
        "  return res"
      ],
      "execution_count": null,
      "outputs": []
    },
    {
      "cell_type": "markdown",
      "metadata": {
        "id": "g-fJpttddcGI"
      },
      "source": [
        "One game of blackjack"
      ]
    },
    {
      "cell_type": "code",
      "metadata": {
        "colab": {
          "base_uri": "https://localhost:8080/"
        },
        "id": "zIhKyPiVCQw5",
        "outputId": "60d217fb-252c-428d-e15f-6a4942d555cc"
      },
      "source": [
        "play_blackjack(model, 20, 100, show=True)"
      ],
      "execution_count": null,
      "outputs": [
        {
          "output_type": "stream",
          "text": [
            "Игрок: 15, Откр.дилера: 4\n",
            "Игрок: 23, Откр.дилера: 4\n",
            "----\n",
            "Дилер: 11\n",
            "Дилер: 18\n",
            "----\n",
            "Победа дилера(казино)\n",
            "Карты: (23, 18, 4)\n",
            "\n",
            "-*---*-\n",
            "\n"
          ],
          "name": "stdout"
        },
        {
          "output_type": "execute_result",
          "data": {
            "text/plain": [
              "(-1, 23, 18, 4, 80.0, 20)"
            ]
          },
          "metadata": {
            "tags": []
          },
          "execution_count": 76
        }
      ]
    },
    {
      "cell_type": "markdown",
      "metadata": {
        "id": "hImBIywUCKg7"
      },
      "source": [
        "More test games"
      ]
    },
    {
      "cell_type": "code",
      "metadata": {
        "id": "ePjVHPlT-Jr-"
      },
      "source": [
        "games = 500  # @param number of test games\n",
        "\n",
        "bal = 10000  # @param start balance\n",
        "\n",
        "bet = 200    # @param bet"
      ],
      "execution_count": null,
      "outputs": []
    },
    {
      "cell_type": "code",
      "metadata": {
        "id": "9XzHy0Gg8A_l",
        "colab": {
          "base_uri": "https://localhost:8080/"
        },
        "outputId": "edbacd9e-eec4-4079-d2ab-acc8e03e6640"
      },
      "source": [
        "his = []  # history of games results\n",
        "\n",
        "for i in range(games):  # plays |games| games\n",
        "  game = play_blackjack(model, bet, bal, show=False)  # plays 1 game\n",
        "\n",
        "  his.append(game) # add result\n",
        "  bal = game[-2]\n",
        "\n",
        "his = np.array(his, dtype=int)\n",
        "print(his[:5])"
      ],
      "execution_count": null,
      "outputs": [
        {
          "output_type": "stream",
          "text": [
            "[[   -1    16    17     7  9800   200]\n",
            " [    1    17    24     8 10000   200]\n",
            " [    1    18    17     2 10200   200]\n",
            " [    1    21    20     3 10400   200]\n",
            " [    1    21    17     7 10600   200]]\n"
          ],
          "name": "stdout"
        }
      ]
    },
    {
      "cell_type": "markdown",
      "metadata": {
        "id": "CacKQNq3fJqB"
      },
      "source": [
        "Statistics"
      ]
    },
    {
      "cell_type": "code",
      "metadata": {
        "colab": {
          "base_uri": "https://localhost:8080/"
        },
        "id": "VRjTANKq9YM_",
        "outputId": "0f6df50c-b318-4d09-9b45-431f8ace55b3"
      },
      "source": [
        "print('Final balance:', bal)\n",
        "\n",
        "print()\n",
        "\n",
        "print('Percentage of defeats:', round(np.sum(his[:, 0] == -1) / games * 100, 1), '%')\n",
        "print('Percentage of wins   :', round(np.sum(his[:, 0] == 1) / games * 100, 1), '%')\n",
        "print('Percentage of draws  :', round(np.sum(his[:, 0] == 0) / games * 100, 1), '%')"
      ],
      "execution_count": null,
      "outputs": [
        {
          "output_type": "stream",
          "text": [
            "Конечный  баланс: 22800.0\n",
            "\n",
            "Процент поражений: 38.2 %\n",
            "Процент побед:     51.0 %\n",
            "Процент ничей:     10.8 %\n"
          ],
          "name": "stdout"
        }
      ]
    },
    {
      "cell_type": "code",
      "metadata": {
        "colab": {
          "base_uri": "https://localhost:8080/",
          "height": 282
        },
        "id": "UhF7iP1stV_J",
        "outputId": "e344ee97-1f00-4b39-d1f8-5c2ec4227236"
      },
      "source": [
        "plt.plot(his[:, -2])  # balance plot"
      ],
      "execution_count": null,
      "outputs": [
        {
          "output_type": "execute_result",
          "data": {
            "text/plain": [
              "[<matplotlib.lines.Line2D at 0x7f9df64fffd0>]"
            ]
          },
          "metadata": {
            "tags": []
          },
          "execution_count": 80
        },
        {
          "output_type": "display_data",
          "data": {
            "image/png": "[encoded data removed]",
            "text/plain": [
              "<Figure size 432x288 with 1 Axes>"
            ]
          },
          "metadata": {
            "tags": [],
            "needs_background": "light"
          }
        }
      ]
    }
  ]
}